{
 "cells": [
  {
   "cell_type": "code",
   "execution_count": 1,
   "metadata": {},
   "outputs": [],
   "source": [
    "import numpy as np\n",
    "from scipy.optimize import linprog\n",
    "from ipynb.fs.full.functions import nn2na, find_arc_names, arc_usage"
   ]
  },
  {
   "cell_type": "code",
   "execution_count": 2,
   "metadata": {},
   "outputs": [],
   "source": [
    "#Import data\n",
    "NN = np.array([[0, 0, 0, 0, 0, 0, 1, 0, 1, 0, 0, 0, 0, 0, 0, 0],#P1A\n",
    "               [0, 0, 0, 0, 0, 0, 0, 1, 0, 1, 0, 0, 0, 0, 0, 0],#P1B\n",
    "               [0, 0, 0, 0, 0, 0, 1, 0, 1, 0, 0, 0, 0, 0, 0, 0],#P2A\n",
    "               [0, 0, 0, 0, 0, 0, 0, 1, 0, 1, 0, 0, 0, 0, 0, 0],#P2B\n",
    "               [0, 0, 0, 0, 0, 0, 1, 0, 1, 0, 0, 0, 0, 0, 0, 0],#P3A\n",
    "               [0, 0, 0, 0, 0, 0, 0, 1, 0, 1, 0, 0, 0, 0, 0, 0],#P3B\n",
    "               [0, 0, 0, 0, 0, 0, 0, 0, 0, 0, 1, 0, 1, 0, 1, 0],#S1A\n",
    "               [0, 0, 0, 0, 0, 0, 0, 0, 0, 0, 0, 1, 0, 1, 0, 1],#S1B\n",
    "               [0, 0, 0, 0, 0, 0, 0, 0, 0, 0, 1, 0, 1, 0, 1, 0],#S2A\n",
    "               [0, 0, 0, 0, 0, 0, 0, 0, 0, 0, 0, 1, 0, 1, 0, 1],#S2B\n",
    "               [0, 0, 0, 0, 0, 0, 0, 0, 0, 0, 0, 0, 0, 0, 0, 0],#C1A\n",
    "               [0, 0, 0, 0, 0, 0, 0, 0, 0, 0, 0, 0, 0, 0, 0, 0],#C1B\n",
    "               [0, 0, 0, 0, 0, 0, 0, 0, 0, 0, 0, 0, 0, 0, 0, 0],#C2A\n",
    "               [0, 0, 0, 0, 0, 0, 0, 0, 0, 0, 0, 0, 0, 0, 0, 0],#C2B\n",
    "               [0, 0, 0, 0, 0, 0, 0, 0, 0, 0, 0, 0, 0, 0, 0, 0],#C3A\n",
    "               [0, 0, 0, 0, 0, 0, 0, 0, 0, 0, 0, 0, 0, 0, 0, 0]])#C3B"
   ]
  },
  {
   "cell_type": "code",
   "execution_count": 3,
   "metadata": {},
   "outputs": [],
   "source": [
    "node_name = ['P1A', 'P1B', 'P2A', 'P2B', 'P3A', 'P3B', 'S1A', 'S1B', 'S2A', 'S2B', 'C1A', 'C1B', 'C2A', 'C2B', 'C3A', 'C3B']"
   ]
  },
  {
   "cell_type": "code",
   "execution_count": 4,
   "metadata": {},
   "outputs": [],
   "source": [
    "# DATA transforming for optimization:\n",
    "NA, arc_idxs, arc_idxs_list = nn2na(NN)"
   ]
  },
  {
   "cell_type": "markdown",
   "metadata": {},
   "source": [
    "### Considerations: \n",
    "1. For factories we consider that production must less or equal to their capacity\n",
    "2. For clients we consider that demand should be exactly attended\n",
    "\n",
    "Given these two considerations, we must create separate data for linprog to solve it:"
   ]
  },
  {
   "cell_type": "code",
   "execution_count": 5,
   "metadata": {},
   "outputs": [
    {
     "name": "stdout",
     "output_type": "stream",
     "text": [
      "[[1 1 0 0 0 0 0 0 0 0 0 0 0 0 0 0 0 0 0 0 0 0 0 0]\n",
      " [0 0 1 1 0 0 0 0 0 0 0 0 0 0 0 0 0 0 0 0 0 0 0 0]\n",
      " [0 0 0 0 1 1 0 0 0 0 0 0 0 0 0 0 0 0 0 0 0 0 0 0]\n",
      " [0 0 0 0 0 0 1 1 0 0 0 0 0 0 0 0 0 0 0 0 0 0 0 0]\n",
      " [0 0 0 0 0 0 0 0 1 1 0 0 0 0 0 0 0 0 0 0 0 0 0 0]\n",
      " [0 0 0 0 0 0 0 0 0 0 1 1 0 0 0 0 0 0 0 0 0 0 0 0]\n",
      " [0 0 0 0 0 0 0 0 0 0 0 0 0 0 0 0 0 0 0 0 0 0 0 0]\n",
      " [0 0 0 0 0 0 0 0 0 0 0 0 0 0 0 0 0 0 0 0 0 0 0 0]\n",
      " [0 0 0 0 0 0 0 0 0 0 0 0 0 0 0 0 0 0 0 0 0 0 0 0]\n",
      " [0 0 0 0 0 0 0 0 0 0 0 0 0 0 0 0 0 0 0 0 0 0 0 0]\n",
      " [0 0 0 0 0 0 0 0 0 0 0 0 0 0 0 0 0 0 0 0 0 0 0 0]\n",
      " [0 0 0 0 0 0 0 0 0 0 0 0 0 0 0 0 0 0 0 0 0 0 0 0]\n",
      " [0 0 0 0 0 0 0 0 0 0 0 0 0 0 0 0 0 0 0 0 0 0 0 0]\n",
      " [0 0 0 0 0 0 0 0 0 0 0 0 0 0 0 0 0 0 0 0 0 0 0 0]\n",
      " [0 0 0 0 0 0 0 0 0 0 0 0 0 0 0 0 0 0 0 0 0 0 0 0]\n",
      " [0 0 0 0 0 0 0 0 0 0 0 0 0 0 0 0 0 0 0 0 0 0 0 0]]\n"
     ]
    }
   ],
   "source": [
    "NAub = NA.copy()\n",
    "NAub[6:, :] = 0\n",
    "print(NAub)"
   ]
  },
  {
   "cell_type": "code",
   "execution_count": 6,
   "metadata": {},
   "outputs": [
    {
     "name": "stdout",
     "output_type": "stream",
     "text": [
      "[[ 0  0  0  0  0  0  0  0  0  0  0  0  0  0  0  0  0  0  0  0  0  0  0  0]\n",
      " [ 0  0  0  0  0  0  0  0  0  0  0  0  0  0  0  0  0  0  0  0  0  0  0  0]\n",
      " [ 0  0  0  0  0  0  0  0  0  0  0  0  0  0  0  0  0  0  0  0  0  0  0  0]\n",
      " [ 0  0  0  0  0  0  0  0  0  0  0  0  0  0  0  0  0  0  0  0  0  0  0  0]\n",
      " [ 0  0  0  0  0  0  0  0  0  0  0  0  0  0  0  0  0  0  0  0  0  0  0  0]\n",
      " [ 0  0  0  0  0  0  0  0  0  0  0  0  0  0  0  0  0  0  0  0  0  0  0  0]\n",
      " [-1  0  0  0 -1  0  0  0 -1  0  0  0  1  1  1  0  0  0  0  0  0  0  0  0]\n",
      " [ 0  0 -1  0  0  0 -1  0  0  0 -1  0  0  0  0  1  1  1  0  0  0  0  0  0]\n",
      " [ 0 -1  0  0  0 -1  0  0  0 -1  0  0  0  0  0  0  0  0  1  1  1  0  0  0]\n",
      " [ 0  0  0 -1  0  0  0 -1  0  0  0 -1  0  0  0  0  0  0  0  0  0  1  1  1]\n",
      " [ 0  0  0  0  0  0  0  0  0  0  0  0 -1  0  0  0  0  0 -1  0  0  0  0  0]\n",
      " [ 0  0  0  0  0  0  0  0  0  0  0  0  0  0  0 -1  0  0  0  0  0 -1  0  0]\n",
      " [ 0  0  0  0  0  0  0  0  0  0  0  0  0 -1  0  0  0  0  0 -1  0  0  0  0]\n",
      " [ 0  0  0  0  0  0  0  0  0  0  0  0  0  0  0  0 -1  0  0  0  0  0 -1  0]\n",
      " [ 0  0  0  0  0  0  0  0  0  0  0  0  0  0 -1  0  0  0  0  0 -1  0  0  0]\n",
      " [ 0  0  0  0  0  0  0  0  0  0  0  0  0  0  0  0  0 -1  0  0  0  0  0 -1]]\n"
     ]
    }
   ],
   "source": [
    "NAeq = NA.copy()\n",
    "NAeq[:6, :] = 0\n",
    "print(NAeq)"
   ]
  },
  {
   "cell_type": "code",
   "execution_count": 7,
   "metadata": {},
   "outputs": [],
   "source": [
    "bub = np.array([20, 30, 10, 40, 30, 10, 0, 0, 0, 0, 0, 0, 0, 0, 0, 0])\n",
    "beq = np.array([0, 0, 0, 0, 0, 0, 0, 0, 0, 0, -30, -40, -10, -20, -20, -20])\n",
    "C = np.array([100, 100, 200, 200, 150, 150, 150, 150, 200, 200, 100, 100, 100, 150, 200, 200, 150, 100, 100, 150, 200, 200, 150, 100])"
   ]
  },
  {
   "cell_type": "code",
   "execution_count": 8,
   "metadata": {},
   "outputs": [],
   "source": [
    "bounds = tuple([(0, None) for arcs in range(0, NAeq.shape[1])])"
   ]
  },
  {
   "cell_type": "code",
   "execution_count": 9,
   "metadata": {
    "scrolled": true
   },
   "outputs": [],
   "source": [
    "# OPTIMIZE:\n",
    "res = linprog(C, A_eq=NAeq, b_eq=beq, A_ub=NAub, b_ub=bub, bounds=bounds, method='simplex')"
   ]
  },
  {
   "cell_type": "code",
   "execution_count": 10,
   "metadata": {
    "scrolled": true
   },
   "outputs": [
    {
     "data": {
      "text/plain": [
       "{('P1A', 'S1A'): 20,\n",
       " ('P1A', 'S2A'): 0,\n",
       " ('P1B', 'S1B'): 30,\n",
       " ('P1B', 'S2B'): 0,\n",
       " ('P2A', 'S1A'): 10,\n",
       " ('P2A', 'S2A'): 0,\n",
       " ('P2B', 'S1B'): 40,\n",
       " ('P2B', 'S2B'): 0,\n",
       " ('P3A', 'S1A'): 30,\n",
       " ('P3A', 'S2A'): 0,\n",
       " ('P3B', 'S1B'): 10,\n",
       " ('P3B', 'S2B'): 0,\n",
       " ('S1A', 'C1A'): 30,\n",
       " ('S1A', 'C2A'): 10,\n",
       " ('S1A', 'C3A'): 20,\n",
       " ('S1B', 'C1B'): 40,\n",
       " ('S1B', 'C2B'): 20,\n",
       " ('S1B', 'C3B'): 20,\n",
       " ('S2A', 'C1A'): 0,\n",
       " ('S2A', 'C2A'): 0,\n",
       " ('S2A', 'C3A'): 0,\n",
       " ('S2B', 'C1B'): 0,\n",
       " ('S2B', 'C2B'): 0,\n",
       " ('S2B', 'C3B'): 0}"
      ]
     },
     "execution_count": 10,
     "metadata": {},
     "output_type": "execute_result"
    }
   ],
   "source": [
    "# Use functions to express flow related to arc names\n",
    "arc_names = find_arc_names(arc_idxs_list, node_name)\n",
    "arc_use = arc_usage(arc_names, res.x.astype(int))\n",
    "arc_use"
   ]
  },
  {
   "cell_type": "markdown",
   "metadata": {},
   "source": [
    "### CONCLUSION\n",
    "There are a couple of thing to mention of the output:\n",
    "1. Because no restriccion of capacity or cost was given to stocks, the model assigns every product to Stock1, and none to S2\n",
    "2. Because Product 1 and 2 offer and demand are independent from each other, we could solve this problem separatedly and we would reach to the same result."
   ]
  }
 ],
 "metadata": {
  "kernelspec": {
   "display_name": "Python 3",
   "language": "python",
   "name": "python3"
  },
  "language_info": {
   "codemirror_mode": {
    "name": "ipython",
    "version": 3
   },
   "file_extension": ".py",
   "mimetype": "text/x-python",
   "name": "python",
   "nbconvert_exporter": "python",
   "pygments_lexer": "ipython3",
   "version": "3.7.3"
  }
 },
 "nbformat": 4,
 "nbformat_minor": 2
}
